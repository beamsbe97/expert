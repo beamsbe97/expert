{
 "cells": [
  {
   "cell_type": "code",
   "execution_count": 57,
   "metadata": {},
   "outputs": [],
   "source": [
    "import pandas as pd\n",
    "from kmodes.kmodes import KModes\n",
    "from sklearn.preprocessing import LabelEncoder\n",
    "from sklearn.preprocessing import StandardScaler\n",
    "\n",
    "df_profile = pd.read_excel(\"A2 - Profile.xlsx\")\n"
   ]
  },
  {
   "cell_type": "code",
   "execution_count": 58,
   "metadata": {},
   "outputs": [],
   "source": [
    "#preprocessing\n",
    "df_profile = df_profile[[\"Job\", \"Marital_status\", \"Education\", \"Credict_Payment\"]]\n",
    "df_profile = df_profile.drop(df_profile[(df_profile[\"Job\"] == \"unknown\")|(df_profile[\"Marital_status\"] == \"unknown\")|(df_profile[\"Education\"] == \"unknown\")|(df_profile[\"Credict_Payment\"] == \"unknown\")].index)\n",
    "\n",
    "label_encoder = LabelEncoder()\n",
    "df_encoded = df_profile.apply(label_encoder.fit_transform)\n",
    "\n"
   ]
  },
  {
   "cell_type": "code",
   "execution_count": 59,
   "metadata": {},
   "outputs": [
    {
     "name": "stdout",
     "output_type": "stream",
     "text": [
      "Initialization method and algorithm are deterministic. Setting n_init to 1.\n",
      "Init: initializing centroids\n",
      "Init: initializing clusters\n",
      "Starting iterations...\n",
      "Run 1, iteration: 1/100, moves: 110, cost: 2112.0\n",
      "           Job Marital_status          Education Credict_Payment  cluster\n",
      "0  blue-collar        married           basic.9y              no        4\n",
      "1     services         single        high.school              no        1\n",
      "2     services        married        high.school              no        3\n",
      "4       admin.        married  university.degree              no        0\n",
      "5     services         single  university.degree              no        0\n"
     ]
    }
   ],
   "source": [
    "\n",
    "# fit\n",
    "km = KModes(n_clusters=5, init='Cao', verbose=1)\n",
    "clusters = km.fit_predict(df_encoded)\n",
    "\n",
    "# Add the cluster labels to the original DataFrame\n",
    "df_profile['cluster'] = clusters\n",
    "print(df_profile.head())"
   ]
  },
  {
   "cell_type": "code",
   "execution_count": null,
   "metadata": {},
   "outputs": [],
   "source": [
    "from sklearn.metrics import pairwise_distances_argmin_min\n",
    "\n",
    "cluster_labels = []\n",
    "for i in range(5):\n",
    "    cluster_mask = clusters == i\n",
    "    true_labels_in_cluster = df['true_label'][cluster_mask]  # Replace 'true_label' with your actual labels\n",
    "    most_frequent_label = true_labels_in_cluster.value_counts().idxmax()\n",
    "    cluster_labels.append(most_frequent_label)\n",
    "\n",
    "purity = sum(pairwise_distances_argmin_min(df['true_label'].values.reshape(-1, 1), cluster_labels)[1]) / len(df)\n",
    "print(f\"Cluster Purity: {purity}\")"
   ]
  }
 ],
 "metadata": {
  "kernelspec": {
   "display_name": "Python 3.10.4 64-bit",
   "language": "python",
   "name": "python3"
  },
  "language_info": {
   "codemirror_mode": {
    "name": "ipython",
    "version": 3
   },
   "file_extension": ".py",
   "mimetype": "text/x-python",
   "name": "python",
   "nbconvert_exporter": "python",
   "pygments_lexer": "ipython3",
   "version": "3.10.5"
  },
  "orig_nbformat": 4,
  "vscode": {
   "interpreter": {
    "hash": "035673eec1416a39c71e9f96a63c4d8d465a7aa54bcd57f3d9d2b6f71729cc38"
   }
  }
 },
 "nbformat": 4,
 "nbformat_minor": 2
}
